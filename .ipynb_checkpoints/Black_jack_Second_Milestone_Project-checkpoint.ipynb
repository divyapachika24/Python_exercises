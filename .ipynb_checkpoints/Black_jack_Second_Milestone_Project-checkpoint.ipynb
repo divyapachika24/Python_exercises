{
 "cells": [
  {
   "cell_type": "code",
   "execution_count": 1,
   "metadata": {},
   "outputs": [],
   "source": [
    "import random\n",
    "suits = ('Hearts', 'Diamonds', 'Spades', 'Clubs')\n",
    "ranks = ('Two', 'Three', 'Four', 'Five', 'Six', 'Seven', 'Eight', 'Nine', 'Ten', 'Jack', 'Queen', 'King', 'Ace')\n",
    "values = {'Two':2, 'Three':3, 'Four':4, 'Five':5, 'Six':6, 'Seven':7, 'Eight':8, \n",
    "            'Nine':9, 'Ten':10, 'Jack':10, 'Queen':10, 'King':10, 'Ace':11}\n",
    "\n",
    "playing = True\n"
   ]
  },
  {
   "cell_type": "code",
   "execution_count": 2,
   "metadata": {},
   "outputs": [],
   "source": [
    "## Class Definitions"
   ]
  },
  {
   "cell_type": "code",
   "execution_count": 3,
   "metadata": {},
   "outputs": [],
   "source": [
    "class Card():\n",
    "    \n",
    "    def __init__(self,suit,rank):\n",
    "        self.suit = suit\n",
    "        self.rank = rank\n",
    "        \n",
    "    def __str__(self):\n",
    "        return self.rank+ \" of \"+self.suit\n",
    "        "
   ]
  },
  {
   "cell_type": "code",
   "execution_count": 4,
   "metadata": {},
   "outputs": [],
   "source": [
    "class Deck:\n",
    "    \n",
    "    def __init__(self):\n",
    "        self.deck = [] # start with an empty list\n",
    "        for suit in suits:\n",
    "            for rank in ranks:\n",
    "                self.deck.append(Card(suit,rank))\n",
    "                \n",
    "    def __str__(self):\n",
    "        deck_comp = ''\n",
    "        for card in self.deck:\n",
    "            deck_comp += '\\n'+ card.__str__()\n",
    "        return \"The deck has: \"+deck_comp\n",
    "    \n",
    "    def shuffle(self):\n",
    "        random.shuffle(self.deck)\n",
    "    \n",
    "    def deal(self):\n",
    "        single_card = self.deck.pop()\n",
    "        return single_card\n",
    "        \n",
    "    "
   ]
  },
  {
   "cell_type": "code",
   "execution_count": 5,
   "metadata": {},
   "outputs": [
    {
     "name": "stdout",
     "output_type": "stream",
     "text": [
      "The deck has: \n",
      "Two of Diamonds\n",
      "King of Diamonds\n",
      "Six of Diamonds\n",
      "Ace of Hearts\n",
      "Two of Hearts\n",
      "Nine of Spades\n",
      "Three of Spades\n",
      "Ace of Diamonds\n",
      "Eight of Hearts\n",
      "Nine of Hearts\n",
      "Seven of Diamonds\n",
      "Eight of Diamonds\n",
      "Three of Diamonds\n",
      "Ten of Clubs\n",
      "Ace of Clubs\n",
      "Six of Hearts\n",
      "King of Spades\n",
      "Four of Clubs\n",
      "Three of Hearts\n",
      "King of Hearts\n",
      "Eight of Clubs\n",
      "Five of Hearts\n",
      "Six of Spades\n",
      "Queen of Clubs\n",
      "Ace of Spades\n",
      "Ten of Diamonds\n",
      "Seven of Hearts\n",
      "Six of Clubs\n",
      "Jack of Spades\n",
      "Queen of Spades\n",
      "Three of Clubs\n",
      "Five of Clubs\n",
      "King of Clubs\n",
      "Four of Spades\n",
      "Jack of Diamonds\n",
      "Seven of Spades\n",
      "Two of Clubs\n",
      "Ten of Spades\n",
      "Eight of Spades\n",
      "Queen of Diamonds\n",
      "Ten of Hearts\n",
      "Nine of Diamonds\n",
      "Queen of Hearts\n",
      "Four of Hearts\n",
      "Five of Spades\n",
      "Four of Diamonds\n",
      "Seven of Clubs\n",
      "Jack of Clubs\n",
      "Nine of Clubs\n",
      "Five of Diamonds\n",
      "Jack of Hearts\n",
      "Two of Spades\n"
     ]
    }
   ],
   "source": [
    "test_deck = Deck()\n",
    "test_deck.shuffle()\n",
    "print(test_deck)"
   ]
  },
  {
   "cell_type": "code",
   "execution_count": 6,
   "metadata": {},
   "outputs": [],
   "source": [
    "## Creating Hand Class and chip class"
   ]
  },
  {
   "cell_type": "code",
   "execution_count": 7,
   "metadata": {},
   "outputs": [],
   "source": [
    "#it represents what cards are currently in the hand\n",
    "class Hand:\n",
    "    def __init__(self):\n",
    "        self.cards = [] # start with an empty list \n",
    "        self.value = 0 # start with zero value\n",
    "        self.aces = 0 # add an attribute to keep track of aces\n",
    "        \n",
    "    def add_card(self,card):\n",
    "        #card passed in is going to be from the Deck.deal -->single Card Object Card(suit,rank)\n",
    "        self.cards.append(card)\n",
    "        self.value += values[card.rank]\n",
    "        \n",
    "        #track aces\n",
    "        if card.rank == 'Ace':\n",
    "            self.aces += 1\n",
    "    \n",
    "    def adjust_for_ace(self):\n",
    "        \n",
    "        # If total Value >21 and I still have an Ace\n",
    "        #then change my ACE to be a 1 instead of an 11\n",
    "        # we can use self.aces > 0 too\n",
    "        \n",
    "        while self.value > 21 and self.aces:\n",
    "            self.value -= 10\n",
    "            self.aces -= 1\n",
    "            \n",
    "            \n",
    "        \n",
    "    "
   ]
  },
  {
   "cell_type": "code",
   "execution_count": 8,
   "metadata": {},
   "outputs": [],
   "source": [
    "zero = 0\n",
    "one = 1\n",
    "two =2\n"
   ]
  },
  {
   "cell_type": "code",
   "execution_count": 9,
   "metadata": {},
   "outputs": [
    {
     "name": "stdout",
     "output_type": "stream",
     "text": [
      "TRUE\n"
     ]
    }
   ],
   "source": [
    "if two:\n",
    "    print('TRUE')"
   ]
  },
  {
   "cell_type": "code",
   "execution_count": 10,
   "metadata": {},
   "outputs": [
    {
     "name": "stdout",
     "output_type": "stream",
     "text": [
      "Seven of Diamonds\n",
      "7\n"
     ]
    }
   ],
   "source": [
    "test_deck = Deck()\n",
    "test_deck.shuffle()\n",
    "\n",
    "#PLAYER\n",
    "test_player = Hand()\n",
    "# Deal 1 card from the deck CARD(suit,rank)\n",
    "pulled_card = test_deck.deal()\n",
    "print(pulled_card)\n",
    "test_player.add_card(pulled_card)\n",
    "print(test_player.value)\n"
   ]
  },
  {
   "cell_type": "code",
   "execution_count": 11,
   "metadata": {},
   "outputs": [],
   "source": [
    "test_player.add_card(test_deck.deal())"
   ]
  },
  {
   "cell_type": "code",
   "execution_count": 12,
   "metadata": {},
   "outputs": [
    {
     "data": {
      "text/plain": [
       "16"
      ]
     },
     "execution_count": 12,
     "metadata": {},
     "output_type": "execute_result"
    }
   ],
   "source": [
    "test_player.value"
   ]
  },
  {
   "cell_type": "code",
   "execution_count": 13,
   "metadata": {},
   "outputs": [],
   "source": [
    "## creating Chip class"
   ]
  },
  {
   "cell_type": "code",
   "execution_count": 14,
   "metadata": {},
   "outputs": [],
   "source": [
    "class Chips:\n",
    "    \n",
    "    def __init__(self,total=100):\n",
    "        \n",
    "        self.total = total # This can be set to a default value or supplied by a user input\n",
    "        self.bet = 0\n",
    "        \n",
    "    def win_bet(self):\n",
    "        self.total += self.bet\n",
    "    \n",
    "    def lose_bet(self):\n",
    "        self.total -= self.bet\n",
    "        \n",
    "        "
   ]
  },
  {
   "cell_type": "code",
   "execution_count": 15,
   "metadata": {},
   "outputs": [],
   "source": [
    "## Functions for the game play "
   ]
  },
  {
   "cell_type": "code",
   "execution_count": 16,
   "metadata": {},
   "outputs": [],
   "source": [
    "def take_bet(chips):\n",
    "    \n",
    "    while True:\n",
    "        \n",
    "        try:\n",
    "            chips.bet = int(input(\"How many chips would you like to bet? \"))\n",
    "        except ValueError:\n",
    "            print(\"Sorry, a bet must be an integer\")\n",
    "        else:\n",
    "            if chips.bet > chips.total:\n",
    "                print(\"Sorry, you dont have enough chips! you have {}\".format(chips.total))\n",
    "            else:\n",
    "                break"
   ]
  },
  {
   "cell_type": "code",
   "execution_count": 17,
   "metadata": {},
   "outputs": [],
   "source": [
    "# HIT"
   ]
  },
  {
   "cell_type": "code",
   "execution_count": 18,
   "metadata": {},
   "outputs": [],
   "source": [
    "def hit(deck,hand):\n",
    "    \n",
    "    single_card = deck.deal()\n",
    "    hand.add_card(single_card)\n",
    "    hand.adjust_for_ace()"
   ]
  },
  {
   "cell_type": "code",
   "execution_count": 19,
   "metadata": {},
   "outputs": [],
   "source": [
    "def hit_or_stand(deck,hand):\n",
    "    \n",
    "    global playing # to control an upcoming while loop\n",
    "    \n",
    "    while True:\n",
    "        x = input('Hit or Stand? Enter h or s')\n",
    "        \n",
    "        if x[0].lower() == 'h':\n",
    "            hit(deck,hand)\n",
    "            \n",
    "        elif x[0].lower() =='s':\n",
    "            print(\"Player Stands Dealer's Turn\")\n",
    "            playing = False\n",
    "            \n",
    "        else:\n",
    "            print(\"Sorry, I did not understand that, Please enter h or s only!\")\n",
    "            continue\n",
    "        break"
   ]
  },
  {
   "cell_type": "code",
   "execution_count": 20,
   "metadata": {},
   "outputs": [],
   "source": [
    "\n",
    "def show_some(player,dealer):\n",
    "    print(\"\\nDealer's Hand:\")\n",
    "    print(\" <card hidden>\")\n",
    "    print('',dealer.cards[1])  \n",
    "    print(\"\\nPlayer's Hand:\", *player.cards, sep='\\n ')\n",
    "    \n",
    "def show_all(player,dealer):\n",
    "    print(\"\\nDealer's Hand:\", *dealer.cards, sep='\\n ')\n",
    "    print(\"Dealer's Hand =\",dealer.value)\n",
    "    print(\"\\nPlayer's Hand:\", *player.cards, sep='\\n ')\n",
    "    print(\"Player's Hand =\",player.value)"
   ]
  },
  {
   "cell_type": "code",
   "execution_count": 21,
   "metadata": {},
   "outputs": [],
   "source": [
    "def player_busts(player,dealer,chips):\n",
    "    print(\"Player BUSTS! DEALER WINS\")\n",
    "    chips.lose_bet()\n",
    "\n",
    "def player_wins(player,dealer,chips):\n",
    "    print(\"Player WINS!\")\n",
    "    chips.win_bet()\n",
    "def dealer_busts(player,dealer,chips):\n",
    "    print(\"Player WINS! DEALER BUSTED!\")\n",
    "    chips.win_bet()\n",
    "\n",
    "def dealer_wins(player,dealer,chips):\n",
    "    print(\"DEALER WINS!\")\n",
    "    chips.lose_bet()\n",
    "\n",
    "def push(player,dealer):\n",
    "    print(\"Dealer and player tie! PUSH\")"
   ]
  },
  {
   "cell_type": "code",
   "execution_count": 22,
   "metadata": {},
   "outputs": [],
   "source": [
    "## Now on to the game"
   ]
  },
  {
   "cell_type": "code",
   "execution_count": null,
   "metadata": {},
   "outputs": [
    {
     "name": "stdout",
     "output_type": "stream",
     "text": [
      "WELCOME TO BLACKJACK\n",
      "How many chips would you like to bet? 60\n",
      "\n",
      "Dealer's Hand:\n",
      " <card hidden>\n",
      " Three of Clubs\n",
      "\n",
      "Player's Hand:\n",
      " Nine of Hearts\n",
      " Six of Hearts\n",
      "Hit or Stand? Enter h or sh\n",
      "\n",
      "Dealer's Hand:\n",
      " <card hidden>\n",
      " Three of Clubs\n",
      "\n",
      "Player's Hand:\n",
      " Nine of Hearts\n",
      " Six of Hearts\n",
      " Jack of Clubs\n",
      "Player BUSTS! DEALER WINS\n",
      "WELCOME TO BLACKJACK\n",
      "How many chips would you like to bet? 40\n",
      "\n",
      "Dealer's Hand:\n",
      " <card hidden>\n",
      " Queen of Hearts\n",
      "\n",
      "Player's Hand:\n",
      " Nine of Clubs\n",
      " Five of Hearts\n",
      "Hit or Stand? Enter h or sh\n",
      "\n",
      "Dealer's Hand:\n",
      " <card hidden>\n",
      " Queen of Hearts\n",
      "\n",
      "Player's Hand:\n",
      " Nine of Clubs\n",
      " Five of Hearts\n",
      " Ten of Clubs\n",
      "Player BUSTS! DEALER WINS\n",
      "WELCOME TO BLACKJACK\n",
      "How many chips would you like to bet? 60\n",
      "\n",
      "Dealer's Hand:\n",
      " <card hidden>\n",
      " Two of Hearts\n",
      "\n",
      "Player's Hand:\n",
      " Ace of Hearts\n",
      " King of Diamonds\n",
      "Hit or Stand? Enter h or sh\n",
      "\n",
      "Dealer's Hand:\n",
      " <card hidden>\n",
      " Two of Hearts\n",
      "\n",
      "Player's Hand:\n",
      " Ace of Hearts\n",
      " King of Diamonds\n",
      " Eight of Clubs\n",
      "\n",
      "Dealer's Hand:\n",
      " Ten of Diamonds\n",
      " Two of Hearts\n",
      " Nine of Hearts\n",
      "Dealer's Hand = 21\n",
      "\n",
      "Player's Hand:\n",
      " Ace of Hearts\n",
      " King of Diamonds\n",
      " Eight of Clubs\n",
      "Player's Hand = 19\n",
      "DEALER WINS!\n",
      "\n",
      " Player total chips are at: 40\n"
     ]
    }
   ],
   "source": [
    "while True:\n",
    "    # Print an opening statement\n",
    "    \n",
    "    print(\"WELCOME TO BLACKJACK\")\n",
    "    ## Create & Shuffle the deck, deal two cards to each player\n",
    "    deck = Deck()\n",
    "    deck.shuffle()\n",
    "    \n",
    "    player_hand = Hand()\n",
    "    player_hand.add_card(deck.deal())\n",
    "    player_hand.add_card(deck.deal())\n",
    "    \n",
    "    dealer_hand = Hand()\n",
    "    dealer_hand.add_card(deck.deal())\n",
    "    dealer_hand.add_card(deck.deal())\n",
    "    \n",
    "    #Set up the Player's chips\n",
    "    player_chips = Chips()\n",
    "    \n",
    "    # Prompt the Player for their bet\n",
    "    take_bet(player_chips)\n",
    "    \n",
    "    # show cards (but keep one dealer card hidden)\n",
    "    show_some(player_hand,dealer_hand)\n",
    "    \n",
    "    while playing: # recall this variable from our hit_or_stand function\n",
    "        \n",
    "        # prompt for player to HIt or Stand\n",
    "        hit_or_stand(deck,player_hand)\n",
    "        \n",
    "        #show cards (but keep one dealer card hidden)\n",
    "        show_some(player_hand,dealer_hand)\n",
    "        \n",
    "        #If player's hand exceeds 21, run player_busts() and break out of loop\n",
    "        \n",
    "        if player_hand.value >21:\n",
    "            player_busts(player_hand,dealer_hand,player_chips)\n",
    "            \n",
    "            break\n",
    "            \n",
    "        #If player hasn't busted , play Dealer's hand until Dealer reaches 17\n",
    "        if player_hand.value <=21:\n",
    "            \n",
    "            while dealer_hand.value < player_hand.value:\n",
    "                hit(deck,dealer_hand)\n",
    "        \n",
    "            # show all cards\n",
    "            show_all(player_hand,dealer_hand)\n",
    "            \n",
    "            # Run different winning scenarios\n",
    "            if dealer_hand.value > 21:\n",
    "                dealer_busts(player_hand,dealer_hand,player_chips)\n",
    "            elif dealer_hand.value > player_hand.value:\n",
    "                dealer_wins(player_hand,dealer_hand,player_chips)\n",
    "            elif dealer_hand.value < player_hand.value:\n",
    "                player_wins(player_hand,dealer_hand,player_chips)\n",
    "            else:\n",
    "                push(player_hand,delaer_hand)\n",
    "        \n",
    "            \n",
    "        #Inform player of their chips total\n",
    "        \n",
    "        print('\\n Player total chips are at: {}'.format(player_chips.total))\n",
    "        #Ask to play again\n",
    "        \n",
    "        new_game = input(\"Would you like to play another hand? y/n\")\n",
    "        \n",
    "        if new_game[0].lower() == 'y':\n",
    "              playing = True\n",
    "              continue\n",
    "        else:\n",
    "              print(\"Thanks for playing\")\n",
    "              break\n",
    "    "
   ]
  },
  {
   "cell_type": "code",
   "execution_count": null,
   "metadata": {},
   "outputs": [],
   "source": []
  },
  {
   "cell_type": "code",
   "execution_count": null,
   "metadata": {},
   "outputs": [],
   "source": []
  },
  {
   "cell_type": "code",
   "execution_count": null,
   "metadata": {},
   "outputs": [],
   "source": []
  },
  {
   "cell_type": "code",
   "execution_count": null,
   "metadata": {},
   "outputs": [],
   "source": []
  },
  {
   "cell_type": "code",
   "execution_count": null,
   "metadata": {},
   "outputs": [],
   "source": []
  },
  {
   "cell_type": "code",
   "execution_count": null,
   "metadata": {},
   "outputs": [],
   "source": []
  },
  {
   "cell_type": "code",
   "execution_count": null,
   "metadata": {},
   "outputs": [],
   "source": []
  }
 ],
 "metadata": {
  "kernelspec": {
   "display_name": "Python 3",
   "language": "python",
   "name": "python3"
  }
 },
 "nbformat": 4,
 "nbformat_minor": 4
}
